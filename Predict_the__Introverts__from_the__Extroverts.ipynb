{
  "nbformat": 4,
  "nbformat_minor": 0,
  "metadata": {
    "colab": {
      "provenance": [],
      "authorship_tag": "ABX9TyOa1cgEmNAnFQrVeHpQlE1V",
      "include_colab_link": true
    },
    "kernelspec": {
      "name": "python3",
      "display_name": "Python 3"
    },
    "language_info": {
      "name": "python"
    }
  },
  "cells": [
    {
      "cell_type": "markdown",
      "metadata": {
        "id": "view-in-github",
        "colab_type": "text"
      },
      "source": [
        "<a href=\"https://colab.research.google.com/github/Ishikasingh101/Introvert_Extrovert_Predictor/blob/main/Predict_the__Introverts__from_the__Extroverts.ipynb\" target=\"_parent\"><img src=\"https://colab.research.google.com/assets/colab-badge.svg\" alt=\"Open In Colab\"/></a>"
      ]
    },
    {
      "cell_type": "code",
      "execution_count": 1,
      "metadata": {
        "id": "1KQ7PDdqx-ax"
      },
      "outputs": [],
      "source": [
        "import pandas as pd\n",
        "\n",
        "train = pd.read_csv(\"/content/train.csv\")\n",
        "test = pd.read_csv(\"/content/test.csv\")"
      ]
    },
    {
      "cell_type": "code",
      "source": [
        "print(train.shape)"
      ],
      "metadata": {
        "colab": {
          "base_uri": "https://localhost:8080/"
        },
        "id": "cpzWjvMczWDb",
        "outputId": "b356a6dc-92d4-4089-f090-3a6681561417"
      },
      "execution_count": 2,
      "outputs": [
        {
          "output_type": "stream",
          "name": "stdout",
          "text": [
            "(18524, 9)\n"
          ]
        }
      ]
    },
    {
      "cell_type": "code",
      "source": [
        "print(train.info())"
      ],
      "metadata": {
        "colab": {
          "base_uri": "https://localhost:8080/"
        },
        "id": "YjVAfob7zfT1",
        "outputId": "87dbbc98-42e0-44bc-8742-e98f150a075e"
      },
      "execution_count": 3,
      "outputs": [
        {
          "output_type": "stream",
          "name": "stdout",
          "text": [
            "<class 'pandas.core.frame.DataFrame'>\n",
            "RangeIndex: 18524 entries, 0 to 18523\n",
            "Data columns (total 9 columns):\n",
            " #   Column                     Non-Null Count  Dtype  \n",
            "---  ------                     --------------  -----  \n",
            " 0   id                         18524 non-null  int64  \n",
            " 1   Time_spent_Alone           17334 non-null  float64\n",
            " 2   Stage_fear                 16631 non-null  object \n",
            " 3   Social_event_attendance    17344 non-null  float64\n",
            " 4   Going_outside              17058 non-null  float64\n",
            " 5   Drained_after_socializing  17375 non-null  object \n",
            " 6   Friends_circle_size        17470 non-null  float64\n",
            " 7   Post_frequency             17260 non-null  float64\n",
            " 8   Personality                18524 non-null  object \n",
            "dtypes: float64(5), int64(1), object(3)\n",
            "memory usage: 1.3+ MB\n",
            "None\n"
          ]
        }
      ]
    },
    {
      "cell_type": "code",
      "source": [
        "print(train.isnull().sum())"
      ],
      "metadata": {
        "colab": {
          "base_uri": "https://localhost:8080/"
        },
        "id": "M8Ea8hqhzkmF",
        "outputId": "98da20a8-e028-4013-8744-4d221a3aa6ca"
      },
      "execution_count": 4,
      "outputs": [
        {
          "output_type": "stream",
          "name": "stdout",
          "text": [
            "id                              0\n",
            "Time_spent_Alone             1190\n",
            "Stage_fear                   1893\n",
            "Social_event_attendance      1180\n",
            "Going_outside                1466\n",
            "Drained_after_socializing    1149\n",
            "Friends_circle_size          1054\n",
            "Post_frequency               1264\n",
            "Personality                     0\n",
            "dtype: int64\n"
          ]
        }
      ]
    },
    {
      "cell_type": "code",
      "source": [
        "print(train.head())"
      ],
      "metadata": {
        "colab": {
          "base_uri": "https://localhost:8080/"
        },
        "id": "FmPluQWgEH6V",
        "outputId": "802ba5d8-7e38-4258-b3d1-7f3ab6823f3f"
      },
      "execution_count": 5,
      "outputs": [
        {
          "output_type": "stream",
          "name": "stdout",
          "text": [
            "   id  Time_spent_Alone Stage_fear  Social_event_attendance  Going_outside  \\\n",
            "0   0               0.0         No                      6.0            4.0   \n",
            "1   1               1.0         No                      7.0            3.0   \n",
            "2   2               6.0        Yes                      1.0            0.0   \n",
            "3   3               3.0         No                      7.0            3.0   \n",
            "4   4               1.0         No                      4.0            4.0   \n",
            "\n",
            "  Drained_after_socializing  Friends_circle_size  Post_frequency Personality  \n",
            "0                        No                 15.0             5.0   Extrovert  \n",
            "1                        No                 10.0             8.0   Extrovert  \n",
            "2                       NaN                  3.0             0.0   Introvert  \n",
            "3                        No                 11.0             5.0   Extrovert  \n",
            "4                        No                 13.0             NaN   Extrovert  \n"
          ]
        }
      ]
    }
  ]
}